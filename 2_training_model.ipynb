{
 "cells": [
  {
   "cell_type": "markdown",
   "id": "3c2830e2",
   "metadata": {},
   "source": [
    "### Load train_df and test_df using pickle"
   ]
  },
  {
   "cell_type": "code",
   "execution_count": 1,
   "id": "93e80244",
   "metadata": {},
   "outputs": [
    {
     "data": {
      "text/html": [
       "<div>\n",
       "<style scoped>\n",
       "    .dataframe tbody tr th:only-of-type {\n",
       "        vertical-align: middle;\n",
       "    }\n",
       "\n",
       "    .dataframe tbody tr th {\n",
       "        vertical-align: top;\n",
       "    }\n",
       "\n",
       "    .dataframe thead th {\n",
       "        text-align: right;\n",
       "    }\n",
       "</style>\n",
       "<table border=\"1\" class=\"dataframe\">\n",
       "  <thead>\n",
       "    <tr style=\"text-align: right;\">\n",
       "      <th></th>\n",
       "      <th>image_id</th>\n",
       "      <th>healthy</th>\n",
       "      <th>multiple_diseases</th>\n",
       "      <th>rust</th>\n",
       "      <th>scab</th>\n",
       "      <th>image_path</th>\n",
       "      <th>label</th>\n",
       "      <th>target</th>\n",
       "    </tr>\n",
       "  </thead>\n",
       "  <tbody>\n",
       "    <tr>\n",
       "      <th>0</th>\n",
       "      <td>Train_0</td>\n",
       "      <td>0</td>\n",
       "      <td>0</td>\n",
       "      <td>0</td>\n",
       "      <td>1</td>\n",
       "      <td>images/Train_0.jpg</td>\n",
       "      <td>scab</td>\n",
       "      <td>3</td>\n",
       "    </tr>\n",
       "    <tr>\n",
       "      <th>1</th>\n",
       "      <td>Train_1</td>\n",
       "      <td>0</td>\n",
       "      <td>1</td>\n",
       "      <td>0</td>\n",
       "      <td>0</td>\n",
       "      <td>images/Train_1.jpg</td>\n",
       "      <td>multiple_diseases</td>\n",
       "      <td>1</td>\n",
       "    </tr>\n",
       "    <tr>\n",
       "      <th>2</th>\n",
       "      <td>Train_2</td>\n",
       "      <td>1</td>\n",
       "      <td>0</td>\n",
       "      <td>0</td>\n",
       "      <td>0</td>\n",
       "      <td>images/Train_2.jpg</td>\n",
       "      <td>healthy</td>\n",
       "      <td>0</td>\n",
       "    </tr>\n",
       "    <tr>\n",
       "      <th>3</th>\n",
       "      <td>Train_3</td>\n",
       "      <td>0</td>\n",
       "      <td>0</td>\n",
       "      <td>1</td>\n",
       "      <td>0</td>\n",
       "      <td>images/Train_3.jpg</td>\n",
       "      <td>rust</td>\n",
       "      <td>2</td>\n",
       "    </tr>\n",
       "    <tr>\n",
       "      <th>4</th>\n",
       "      <td>Train_4</td>\n",
       "      <td>1</td>\n",
       "      <td>0</td>\n",
       "      <td>0</td>\n",
       "      <td>0</td>\n",
       "      <td>images/Train_4.jpg</td>\n",
       "      <td>healthy</td>\n",
       "      <td>0</td>\n",
       "    </tr>\n",
       "  </tbody>\n",
       "</table>\n",
       "</div>"
      ],
      "text/plain": [
       "  image_id  healthy  multiple_diseases  rust  scab          image_path  \\\n",
       "0  Train_0        0                  0     0     1  images/Train_0.jpg   \n",
       "1  Train_1        0                  1     0     0  images/Train_1.jpg   \n",
       "2  Train_2        1                  0     0     0  images/Train_2.jpg   \n",
       "3  Train_3        0                  0     1     0  images/Train_3.jpg   \n",
       "4  Train_4        1                  0     0     0  images/Train_4.jpg   \n",
       "\n",
       "               label  target  \n",
       "0               scab       3  \n",
       "1  multiple_diseases       1  \n",
       "2            healthy       0  \n",
       "3               rust       2  \n",
       "4            healthy       0  "
      ]
     },
     "execution_count": 1,
     "metadata": {},
     "output_type": "execute_result"
    }
   ],
   "source": [
    "import pickle\n",
    "import pandas as pd\n",
    "\n",
    "with open('train_df.pkl', 'rb') as f:\n",
    "    train_df = pickle.load(f)\n",
    "\n",
    "with open('test_df.pkl', 'rb') as f:\n",
    "    test_df = pickle.load(f)\n",
    "\n",
    "train_df.head()\n",
    "# test_df.head()"
   ]
  },
  {
   "cell_type": "markdown",
   "id": "ce4ce41d",
   "metadata": {},
   "source": [
    "### reload plant_pathology_data library and load datas"
   ]
  },
  {
   "cell_type": "code",
   "execution_count": 2,
   "id": "a072137a",
   "metadata": {},
   "outputs": [
    {
     "data": {
      "text/plain": [
       "<module 'plant_pathology_data' from '/Users/jungchulwoo/Desktop/Coding/DL/DL_Computer_Vision/plant_pathology/plant_pathology_data.py'>"
      ]
     },
     "execution_count": 2,
     "metadata": {},
     "output_type": "execute_result"
    }
   ],
   "source": [
    "import importlib\n",
    "import plant_pathology_data\n",
    "importlib.reload(plant_pathology_data)"
   ]
  },
  {
   "cell_type": "code",
   "execution_count": 14,
   "id": "a43dfeec",
   "metadata": {},
   "outputs": [],
   "source": [
    "from plant_pathology_data import plant_data_loader\n",
    "from sklearn.model_selection import train_test_split\n",
    "import albumentations as A\n",
    "from albumentations.pytorch import ToTensorV2\n",
    "\n",
    "train_df, val_df = train_test_split(train_df, test_size=0.2, stratify=train_df['target'], random_state=42)\n",
    "\n",
    "train_transform = A.Compose([\n",
    "    A.VerticalFlip(p=0.4),\n",
    "    A.HorizontalFlip(p=0.4),\n",
    "    A.Rotate(limit=15, p=0.4),\n",
    "    A.OneOf([\n",
    "        A.ColorJitter(brightness=0.2, contrast=0.2, saturation=0.2, hue=0.2, p=0.3),\n",
    "        A.RandomBrightnessContrast(brightness_limit=8, contrast_limit=8, p=0.3),\n",
    "        A.RandomGamma(gamma_limit=(80, 120), p=0.3),\n",
    "    ], p=0.3),\n",
    "    A.Blur(blur_limit=3, p=0.3),\n",
    "    A.Resize(height=224, width=224),\n",
    "    A.Normalize(mean=(0.485, 0.456, 0.406), std=(0.229, 0.224, 0.225)),\n",
    "    ToTensorV2()\n",
    "])\n",
    "\n",
    "val_transform = A.Compose([\n",
    "    A.Resize(height=224, width=224),\n",
    "    A.Normalize(mean=(0.485, 0.456, 0.406), std=(0.229, 0.224, 0.225)),\n",
    "    ToTensorV2()\n",
    "])\n",
    "\n",
    "train_loader, val_loader = plant_data_loader(train_df, val_df, train_transform=train_transform, val_transform=val_transform)"
   ]
  },
  {
   "cell_type": "markdown",
   "id": "512cca6f",
   "metadata": {},
   "source": [
    "### Choose one pre-trained model from timm\n",
    "#### -> deit3_small_patch16_224.fb_in22k_ft_in1k: \n",
    "#### One of the fastest image classification models with 83% accuracy in ImageNet-1k ."
   ]
  },
  {
   "cell_type": "code",
   "execution_count": 15,
   "id": "0265d5a5",
   "metadata": {},
   "outputs": [],
   "source": [
    "from timm import create_model\n",
    "\n",
    "model = create_model('deit3_small_patch16_224.fb_in22k_ft_in1k', pretrained=True, num_classes=4)\n"
   ]
  },
  {
   "cell_type": "code",
   "execution_count": 16,
   "id": "4f5a894b",
   "metadata": {},
   "outputs": [
    {
     "data": {
      "text/plain": [
       "===================================================================================================================\n",
       "Layer (type (var_name))                  Input Shape               Output Shape              Param #\n",
       "===================================================================================================================\n",
       "VisionTransformer (VisionTransformer)    [1, 3, 224, 224]          [1, 4]                    75,648\n",
       "├─PatchEmbed (patch_embed)               [1, 3, 224, 224]          [1, 196, 384]             --\n",
       "│    └─Conv2d (proj)                     [1, 3, 224, 224]          [1, 384, 14, 14]          295,296\n",
       "│    └─Identity (norm)                   [1, 196, 384]             [1, 196, 384]             --\n",
       "├─Dropout (pos_drop)                     [1, 197, 384]             [1, 197, 384]             --\n",
       "├─Identity (patch_drop)                  [1, 197, 384]             [1, 197, 384]             --\n",
       "├─Identity (norm_pre)                    [1, 197, 384]             [1, 197, 384]             --\n",
       "├─Sequential (blocks)                    [1, 197, 384]             [1, 197, 384]             --\n",
       "│    └─Block (0)                         [1, 197, 384]             [1, 197, 384]             --\n",
       "│    │    └─LayerNorm (norm1)            [1, 197, 384]             [1, 197, 384]             768\n",
       "│    │    └─Attention (attn)             [1, 197, 384]             [1, 197, 384]             591,360\n",
       "│    │    └─LayerScale (ls1)             [1, 197, 384]             [1, 197, 384]             384\n",
       "│    │    └─Identity (drop_path1)        [1, 197, 384]             [1, 197, 384]             --\n",
       "│    │    └─LayerNorm (norm2)            [1, 197, 384]             [1, 197, 384]             768\n",
       "│    │    └─Mlp (mlp)                    [1, 197, 384]             [1, 197, 384]             1,181,568\n",
       "│    │    └─LayerScale (ls2)             [1, 197, 384]             [1, 197, 384]             384\n",
       "│    │    └─Identity (drop_path2)        [1, 197, 384]             [1, 197, 384]             --\n",
       "│    └─Block (1)                         [1, 197, 384]             [1, 197, 384]             --\n",
       "│    │    └─LayerNorm (norm1)            [1, 197, 384]             [1, 197, 384]             768\n",
       "│    │    └─Attention (attn)             [1, 197, 384]             [1, 197, 384]             591,360\n",
       "│    │    └─LayerScale (ls1)             [1, 197, 384]             [1, 197, 384]             384\n",
       "│    │    └─Identity (drop_path1)        [1, 197, 384]             [1, 197, 384]             --\n",
       "│    │    └─LayerNorm (norm2)            [1, 197, 384]             [1, 197, 384]             768\n",
       "│    │    └─Mlp (mlp)                    [1, 197, 384]             [1, 197, 384]             1,181,568\n",
       "│    │    └─LayerScale (ls2)             [1, 197, 384]             [1, 197, 384]             384\n",
       "│    │    └─Identity (drop_path2)        [1, 197, 384]             [1, 197, 384]             --\n",
       "│    └─Block (2)                         [1, 197, 384]             [1, 197, 384]             --\n",
       "│    │    └─LayerNorm (norm1)            [1, 197, 384]             [1, 197, 384]             768\n",
       "│    │    └─Attention (attn)             [1, 197, 384]             [1, 197, 384]             591,360\n",
       "│    │    └─LayerScale (ls1)             [1, 197, 384]             [1, 197, 384]             384\n",
       "│    │    └─Identity (drop_path1)        [1, 197, 384]             [1, 197, 384]             --\n",
       "│    │    └─LayerNorm (norm2)            [1, 197, 384]             [1, 197, 384]             768\n",
       "│    │    └─Mlp (mlp)                    [1, 197, 384]             [1, 197, 384]             1,181,568\n",
       "│    │    └─LayerScale (ls2)             [1, 197, 384]             [1, 197, 384]             384\n",
       "│    │    └─Identity (drop_path2)        [1, 197, 384]             [1, 197, 384]             --\n",
       "│    └─Block (3)                         [1, 197, 384]             [1, 197, 384]             --\n",
       "│    │    └─LayerNorm (norm1)            [1, 197, 384]             [1, 197, 384]             768\n",
       "│    │    └─Attention (attn)             [1, 197, 384]             [1, 197, 384]             591,360\n",
       "│    │    └─LayerScale (ls1)             [1, 197, 384]             [1, 197, 384]             384\n",
       "│    │    └─Identity (drop_path1)        [1, 197, 384]             [1, 197, 384]             --\n",
       "│    │    └─LayerNorm (norm2)            [1, 197, 384]             [1, 197, 384]             768\n",
       "│    │    └─Mlp (mlp)                    [1, 197, 384]             [1, 197, 384]             1,181,568\n",
       "│    │    └─LayerScale (ls2)             [1, 197, 384]             [1, 197, 384]             384\n",
       "│    │    └─Identity (drop_path2)        [1, 197, 384]             [1, 197, 384]             --\n",
       "│    └─Block (4)                         [1, 197, 384]             [1, 197, 384]             --\n",
       "│    │    └─LayerNorm (norm1)            [1, 197, 384]             [1, 197, 384]             768\n",
       "│    │    └─Attention (attn)             [1, 197, 384]             [1, 197, 384]             591,360\n",
       "│    │    └─LayerScale (ls1)             [1, 197, 384]             [1, 197, 384]             384\n",
       "│    │    └─Identity (drop_path1)        [1, 197, 384]             [1, 197, 384]             --\n",
       "│    │    └─LayerNorm (norm2)            [1, 197, 384]             [1, 197, 384]             768\n",
       "│    │    └─Mlp (mlp)                    [1, 197, 384]             [1, 197, 384]             1,181,568\n",
       "│    │    └─LayerScale (ls2)             [1, 197, 384]             [1, 197, 384]             384\n",
       "│    │    └─Identity (drop_path2)        [1, 197, 384]             [1, 197, 384]             --\n",
       "│    └─Block (5)                         [1, 197, 384]             [1, 197, 384]             --\n",
       "│    │    └─LayerNorm (norm1)            [1, 197, 384]             [1, 197, 384]             768\n",
       "│    │    └─Attention (attn)             [1, 197, 384]             [1, 197, 384]             591,360\n",
       "│    │    └─LayerScale (ls1)             [1, 197, 384]             [1, 197, 384]             384\n",
       "│    │    └─Identity (drop_path1)        [1, 197, 384]             [1, 197, 384]             --\n",
       "│    │    └─LayerNorm (norm2)            [1, 197, 384]             [1, 197, 384]             768\n",
       "│    │    └─Mlp (mlp)                    [1, 197, 384]             [1, 197, 384]             1,181,568\n",
       "│    │    └─LayerScale (ls2)             [1, 197, 384]             [1, 197, 384]             384\n",
       "│    │    └─Identity (drop_path2)        [1, 197, 384]             [1, 197, 384]             --\n",
       "│    └─Block (6)                         [1, 197, 384]             [1, 197, 384]             --\n",
       "│    │    └─LayerNorm (norm1)            [1, 197, 384]             [1, 197, 384]             768\n",
       "│    │    └─Attention (attn)             [1, 197, 384]             [1, 197, 384]             591,360\n",
       "│    │    └─LayerScale (ls1)             [1, 197, 384]             [1, 197, 384]             384\n",
       "│    │    └─Identity (drop_path1)        [1, 197, 384]             [1, 197, 384]             --\n",
       "│    │    └─LayerNorm (norm2)            [1, 197, 384]             [1, 197, 384]             768\n",
       "│    │    └─Mlp (mlp)                    [1, 197, 384]             [1, 197, 384]             1,181,568\n",
       "│    │    └─LayerScale (ls2)             [1, 197, 384]             [1, 197, 384]             384\n",
       "│    │    └─Identity (drop_path2)        [1, 197, 384]             [1, 197, 384]             --\n",
       "│    └─Block (7)                         [1, 197, 384]             [1, 197, 384]             --\n",
       "│    │    └─LayerNorm (norm1)            [1, 197, 384]             [1, 197, 384]             768\n",
       "│    │    └─Attention (attn)             [1, 197, 384]             [1, 197, 384]             591,360\n",
       "│    │    └─LayerScale (ls1)             [1, 197, 384]             [1, 197, 384]             384\n",
       "│    │    └─Identity (drop_path1)        [1, 197, 384]             [1, 197, 384]             --\n",
       "│    │    └─LayerNorm (norm2)            [1, 197, 384]             [1, 197, 384]             768\n",
       "│    │    └─Mlp (mlp)                    [1, 197, 384]             [1, 197, 384]             1,181,568\n",
       "│    │    └─LayerScale (ls2)             [1, 197, 384]             [1, 197, 384]             384\n",
       "│    │    └─Identity (drop_path2)        [1, 197, 384]             [1, 197, 384]             --\n",
       "│    └─Block (8)                         [1, 197, 384]             [1, 197, 384]             --\n",
       "│    │    └─LayerNorm (norm1)            [1, 197, 384]             [1, 197, 384]             768\n",
       "│    │    └─Attention (attn)             [1, 197, 384]             [1, 197, 384]             591,360\n",
       "│    │    └─LayerScale (ls1)             [1, 197, 384]             [1, 197, 384]             384\n",
       "│    │    └─Identity (drop_path1)        [1, 197, 384]             [1, 197, 384]             --\n",
       "│    │    └─LayerNorm (norm2)            [1, 197, 384]             [1, 197, 384]             768\n",
       "│    │    └─Mlp (mlp)                    [1, 197, 384]             [1, 197, 384]             1,181,568\n",
       "│    │    └─LayerScale (ls2)             [1, 197, 384]             [1, 197, 384]             384\n",
       "│    │    └─Identity (drop_path2)        [1, 197, 384]             [1, 197, 384]             --\n",
       "│    └─Block (9)                         [1, 197, 384]             [1, 197, 384]             --\n",
       "│    │    └─LayerNorm (norm1)            [1, 197, 384]             [1, 197, 384]             768\n",
       "│    │    └─Attention (attn)             [1, 197, 384]             [1, 197, 384]             591,360\n",
       "│    │    └─LayerScale (ls1)             [1, 197, 384]             [1, 197, 384]             384\n",
       "│    │    └─Identity (drop_path1)        [1, 197, 384]             [1, 197, 384]             --\n",
       "│    │    └─LayerNorm (norm2)            [1, 197, 384]             [1, 197, 384]             768\n",
       "│    │    └─Mlp (mlp)                    [1, 197, 384]             [1, 197, 384]             1,181,568\n",
       "│    │    └─LayerScale (ls2)             [1, 197, 384]             [1, 197, 384]             384\n",
       "│    │    └─Identity (drop_path2)        [1, 197, 384]             [1, 197, 384]             --\n",
       "│    └─Block (10)                        [1, 197, 384]             [1, 197, 384]             --\n",
       "│    │    └─LayerNorm (norm1)            [1, 197, 384]             [1, 197, 384]             768\n",
       "│    │    └─Attention (attn)             [1, 197, 384]             [1, 197, 384]             591,360\n",
       "│    │    └─LayerScale (ls1)             [1, 197, 384]             [1, 197, 384]             384\n",
       "│    │    └─Identity (drop_path1)        [1, 197, 384]             [1, 197, 384]             --\n",
       "│    │    └─LayerNorm (norm2)            [1, 197, 384]             [1, 197, 384]             768\n",
       "│    │    └─Mlp (mlp)                    [1, 197, 384]             [1, 197, 384]             1,181,568\n",
       "│    │    └─LayerScale (ls2)             [1, 197, 384]             [1, 197, 384]             384\n",
       "│    │    └─Identity (drop_path2)        [1, 197, 384]             [1, 197, 384]             --\n",
       "│    └─Block (11)                        [1, 197, 384]             [1, 197, 384]             --\n",
       "│    │    └─LayerNorm (norm1)            [1, 197, 384]             [1, 197, 384]             768\n",
       "│    │    └─Attention (attn)             [1, 197, 384]             [1, 197, 384]             591,360\n",
       "│    │    └─LayerScale (ls1)             [1, 197, 384]             [1, 197, 384]             384\n",
       "│    │    └─Identity (drop_path1)        [1, 197, 384]             [1, 197, 384]             --\n",
       "│    │    └─LayerNorm (norm2)            [1, 197, 384]             [1, 197, 384]             768\n",
       "│    │    └─Mlp (mlp)                    [1, 197, 384]             [1, 197, 384]             1,181,568\n",
       "│    │    └─LayerScale (ls2)             [1, 197, 384]             [1, 197, 384]             384\n",
       "│    │    └─Identity (drop_path2)        [1, 197, 384]             [1, 197, 384]             --\n",
       "├─LayerNorm (norm)                       [1, 197, 384]             [1, 197, 384]             768\n",
       "├─Identity (fc_norm)                     [1, 384]                  [1, 384]                  --\n",
       "├─Dropout (head_drop)                    [1, 384]                  [1, 384]                  --\n",
       "├─Linear (head)                          [1, 384]                  [1, 4]                    1,540\n",
       "===================================================================================================================\n",
       "Total params: 21,676,036\n",
       "Trainable params: 21,676,036\n",
       "Non-trainable params: 0\n",
       "Total mult-adds (Units.MEGABYTES): 79.17\n",
       "===================================================================================================================\n",
       "Input size (MB): 0.60\n",
       "Forward/backward pass size (MB): 95.62\n",
       "Params size (MB): 86.40\n",
       "Estimated Total Size (MB): 182.62\n",
       "==================================================================================================================="
      ]
     },
     "execution_count": 16,
     "metadata": {},
     "output_type": "execute_result"
    }
   ],
   "source": [
    "from torchinfo import summary\n",
    "\n",
    "summary(model, input_size=(1, 3, 224, 224),\n",
    "        col_names=[\"input_size\", \"output_size\", \"num_params\"],\n",
    "        row_settings=[\"var_names\"])"
   ]
  },
  {
   "cell_type": "code",
   "execution_count": 17,
   "id": "3c71c4ec",
   "metadata": {},
   "outputs": [
    {
     "data": {
      "text/plain": [
       "{'url': 'https://dl.fbaipublicfiles.com/deit/deit_3_small_224_21k.pth',\n",
       " 'hf_hub_id': 'timm/deit3_small_patch16_224.fb_in22k_ft_in1k',\n",
       " 'architecture': 'deit3_small_patch16_224',\n",
       " 'tag': 'fb_in22k_ft_in1k',\n",
       " 'custom_load': False,\n",
       " 'input_size': (3, 224, 224),\n",
       " 'fixed_input_size': True,\n",
       " 'interpolation': 'bicubic',\n",
       " 'crop_pct': 1.0,\n",
       " 'crop_mode': 'center',\n",
       " 'mean': (0.485, 0.456, 0.406),\n",
       " 'std': (0.229, 0.224, 0.225),\n",
       " 'num_classes': 1000,\n",
       " 'pool_size': None,\n",
       " 'first_conv': 'patch_embed.proj',\n",
       " 'classifier': 'head'}"
      ]
     },
     "execution_count": 17,
     "metadata": {},
     "output_type": "execute_result"
    }
   ],
   "source": [
    "model.pretrained_cfg"
   ]
  },
  {
   "cell_type": "markdown",
   "id": "78537b17",
   "metadata": {},
   "source": [
    "### Training Model without cutmix"
   ]
  },
  {
   "cell_type": "markdown",
   "id": "fa1369f9",
   "metadata": {},
   "source": [
    "#### Fine Tuning -  first step : training only 'head' layer"
   ]
  },
  {
   "cell_type": "code",
   "execution_count": 18,
   "id": "02a65da8",
   "metadata": {},
   "outputs": [],
   "source": [
    "def freeze_feature_extractor(model):\n",
    "    for name, param in model.named_parameters():\n",
    "        if 'head' in name:\n",
    "            param.requires_grad = True\n",
    "        else:\n",
    "            param.requires_grad = False\n",
    "\n",
    "    return model"
   ]
  },
  {
   "cell_type": "code",
   "execution_count": null,
   "id": "7665928b",
   "metadata": {},
   "outputs": [
    {
     "name": "stderr",
     "output_type": "stream",
     "text": [
      "Epoch 1 [Training..]:   1%|▏         | 1/73 [00:01<01:13,  1.02s/it]/Users/jungchulwoo/Desktop/Coding/DL/DL_Computer_Vision/plant_pathology/plant_venv/lib/python3.11/site-packages/torchmetrics/utilities/prints.py:43: UserWarning: No positive samples in targets, true positive value should be meaningless. Returning zero tensor in true positive score\n",
      "  warnings.warn(*args, **kwargs)\n",
      "Epoch 1 [Training..]: 100%|██████████| 73/73 [01:11<00:00,  1.02it/s, auroc=0.763, loss=0.935]\n",
      "Epoch 1 [Validation..]: 100%|██████████| 5/5 [00:09<00:00,  1.99s/it, auroc=0.834, loss=0.696]\n"
     ]
    },
    {
     "name": "stdout",
     "output_type": "stream",
     "text": [
      "Epoch 1 - Train Loss: 0.9349 - Train AUROC: 0.7625 - Val Loss: 0.6965 - Val AUROC: 0.8337 - LR: 0.001000\n"
     ]
    },
    {
     "name": "stderr",
     "output_type": "stream",
     "text": [
      "Epoch 2 [Training..]: 100%|██████████| 73/73 [01:12<00:00,  1.01it/s, auroc=0.84, loss=0.72]  \n",
      "Epoch 2 [Validation..]: 100%|██████████| 5/5 [00:09<00:00,  1.96s/it, auroc=0.878, loss=0.526]\n"
     ]
    },
    {
     "name": "stdout",
     "output_type": "stream",
     "text": [
      "Epoch 2 - Train Loss: 0.7199 - Train AUROC: 0.8396 - Val Loss: 0.5260 - Val AUROC: 0.8784 - LR: 0.001000\n"
     ]
    },
    {
     "name": "stderr",
     "output_type": "stream",
     "text": [
      "Epoch 3 [Training..]: 100%|██████████| 73/73 [01:09<00:00,  1.05it/s, auroc=0.886, loss=0.643]\n",
      "Epoch 3 [Validation..]: 100%|██████████| 5/5 [00:09<00:00,  1.97s/it, auroc=0.901, loss=0.497]\n"
     ]
    },
    {
     "name": "stdout",
     "output_type": "stream",
     "text": [
      "Epoch 3 - Train Loss: 0.6430 - Train AUROC: 0.8856 - Val Loss: 0.4969 - Val AUROC: 0.9009 - LR: 0.001000\n"
     ]
    },
    {
     "name": "stderr",
     "output_type": "stream",
     "text": [
      "Epoch 4 [Training..]: 100%|██████████| 73/73 [01:10<00:00,  1.04it/s, auroc=0.889, loss=0.61] \n",
      "Epoch 4 [Validation..]: 100%|██████████| 5/5 [00:09<00:00,  1.96s/it, auroc=0.896, loss=0.469]\n"
     ]
    },
    {
     "name": "stdout",
     "output_type": "stream",
     "text": [
      "Epoch 4 - Train Loss: 0.6097 - Train AUROC: 0.8886 - Val Loss: 0.4686 - Val AUROC: 0.8959 - LR: 0.001000\n"
     ]
    },
    {
     "name": "stderr",
     "output_type": "stream",
     "text": [
      "Epoch 5 [Training..]: 100%|██████████| 73/73 [01:11<00:00,  1.01it/s, auroc=0.892, loss=0.601]\n",
      "Epoch 5 [Validation..]: 100%|██████████| 5/5 [00:09<00:00,  1.97s/it, auroc=0.901, loss=0.457]\n"
     ]
    },
    {
     "name": "stdout",
     "output_type": "stream",
     "text": [
      "Epoch 5 - Train Loss: 0.6008 - Train AUROC: 0.8918 - Val Loss: 0.4569 - Val AUROC: 0.9015 - LR: 0.001000\n"
     ]
    },
    {
     "name": "stderr",
     "output_type": "stream",
     "text": [
      "Epoch 6 [Training..]: 100%|██████████| 73/73 [01:09<00:00,  1.05it/s, auroc=0.906, loss=0.567]\n",
      "Epoch 6 [Validation..]: 100%|██████████| 5/5 [00:09<00:00,  1.96s/it, auroc=0.903, loss=0.435]\n"
     ]
    },
    {
     "name": "stdout",
     "output_type": "stream",
     "text": [
      "Epoch 6 - Train Loss: 0.5668 - Train AUROC: 0.9057 - Val Loss: 0.4352 - Val AUROC: 0.9032 - LR: 0.001000\n"
     ]
    },
    {
     "name": "stderr",
     "output_type": "stream",
     "text": [
      "Epoch 7 [Training..]: 100%|██████████| 73/73 [01:11<00:00,  1.02it/s, auroc=0.909, loss=0.548]\n",
      "Epoch 7 [Validation..]: 100%|██████████| 5/5 [00:09<00:00,  1.97s/it, auroc=0.917, loss=0.458]\n"
     ]
    },
    {
     "name": "stdout",
     "output_type": "stream",
     "text": [
      "Epoch 7 - Train Loss: 0.5481 - Train AUROC: 0.9094 - Val Loss: 0.4582 - Val AUROC: 0.9168 - LR: 0.001000\n"
     ]
    },
    {
     "name": "stderr",
     "output_type": "stream",
     "text": [
      "Epoch 8 [Training..]: 100%|██████████| 73/73 [01:09<00:00,  1.05it/s, auroc=0.917, loss=0.544]\n",
      "Epoch 8 [Validation..]: 100%|██████████| 5/5 [00:09<00:00,  1.96s/it, auroc=0.903, loss=0.468]\n"
     ]
    },
    {
     "name": "stdout",
     "output_type": "stream",
     "text": [
      "Epoch 8 - Train Loss: 0.5436 - Train AUROC: 0.9172 - Val Loss: 0.4679 - Val AUROC: 0.9029 - LR: 0.001000\n"
     ]
    },
    {
     "name": "stderr",
     "output_type": "stream",
     "text": [
      "Epoch 9 [Training..]: 100%|██████████| 73/73 [01:11<00:00,  1.02it/s, auroc=0.911, loss=0.554]\n",
      "Epoch 9 [Validation..]: 100%|██████████| 5/5 [00:09<00:00,  1.98s/it, auroc=0.919, loss=0.411]\n"
     ]
    },
    {
     "name": "stdout",
     "output_type": "stream",
     "text": [
      "Epoch 9 - Train Loss: 0.5536 - Train AUROC: 0.9108 - Val Loss: 0.4110 - Val AUROC: 0.9193 - LR: 0.001000\n"
     ]
    },
    {
     "name": "stderr",
     "output_type": "stream",
     "text": [
      "Epoch 10 [Training..]: 100%|██████████| 73/73 [01:07<00:00,  1.07it/s, auroc=0.923, loss=0.526]\n",
      "Epoch 10 [Validation..]: 100%|██████████| 5/5 [00:09<00:00,  1.92s/it, auroc=0.916, loss=0.421]\n"
     ]
    },
    {
     "name": "stdout",
     "output_type": "stream",
     "text": [
      "Epoch 10 - Train Loss: 0.5263 - Train AUROC: 0.9225 - Val Loss: 0.4207 - Val AUROC: 0.9165 - LR: 0.001000\n"
     ]
    },
    {
     "name": "stderr",
     "output_type": "stream",
     "text": [
      "Epoch 11 [Training..]: 100%|██████████| 73/73 [01:06<00:00,  1.10it/s, auroc=0.915, loss=0.527]\n",
      "Epoch 11 [Validation..]: 100%|██████████| 5/5 [00:09<00:00,  1.91s/it, auroc=0.918, loss=0.425]\n"
     ]
    },
    {
     "name": "stdout",
     "output_type": "stream",
     "text": [
      "Epoch 11 - Train Loss: 0.5267 - Train AUROC: 0.9152 - Val Loss: 0.4247 - Val AUROC: 0.9176 - LR: 0.001000\n"
     ]
    },
    {
     "name": "stderr",
     "output_type": "stream",
     "text": [
      "Epoch 12 [Training..]: 100%|██████████| 73/73 [01:05<00:00,  1.11it/s, auroc=0.92, loss=0.527] \n",
      "Epoch 12 [Validation..]: 100%|██████████| 5/5 [00:09<00:00,  1.92s/it, auroc=0.931, loss=0.397]\n"
     ]
    },
    {
     "name": "stdout",
     "output_type": "stream",
     "text": [
      "Epoch 12 - Train Loss: 0.5265 - Train AUROC: 0.9203 - Val Loss: 0.3965 - Val AUROC: 0.9311 - LR: 0.001000\n"
     ]
    },
    {
     "name": "stderr",
     "output_type": "stream",
     "text": [
      "Epoch 13 [Training..]: 100%|██████████| 73/73 [01:06<00:00,  1.09it/s, auroc=0.919, loss=0.512]\n",
      "Epoch 13 [Validation..]: 100%|██████████| 5/5 [00:09<00:00,  1.93s/it, auroc=0.939, loss=0.425]\n"
     ]
    },
    {
     "name": "stdout",
     "output_type": "stream",
     "text": [
      "Epoch 13 - Train Loss: 0.5122 - Train AUROC: 0.9191 - Val Loss: 0.4248 - Val AUROC: 0.9389 - LR: 0.001000\n"
     ]
    },
    {
     "name": "stderr",
     "output_type": "stream",
     "text": [
      "Epoch 14 [Training..]: 100%|██████████| 73/73 [01:09<00:00,  1.05it/s, auroc=0.913, loss=0.531]\n",
      "Epoch 14 [Validation..]: 100%|██████████| 5/5 [00:09<00:00,  1.97s/it, auroc=0.934, loss=0.393]\n"
     ]
    },
    {
     "name": "stdout",
     "output_type": "stream",
     "text": [
      "Epoch 14 - Train Loss: 0.5310 - Train AUROC: 0.9134 - Val Loss: 0.3927 - Val AUROC: 0.9340 - LR: 0.001000\n"
     ]
    },
    {
     "name": "stderr",
     "output_type": "stream",
     "text": [
      "Epoch 15 [Training..]: 100%|██████████| 73/73 [01:08<00:00,  1.06it/s, auroc=0.925, loss=0.487]\n",
      "Epoch 15 [Validation..]: 100%|██████████| 5/5 [00:09<00:00,  1.93s/it, auroc=0.934, loss=0.395]\n"
     ]
    },
    {
     "name": "stdout",
     "output_type": "stream",
     "text": [
      "Epoch 15 - Train Loss: 0.4867 - Train AUROC: 0.9254 - Val Loss: 0.3950 - Val AUROC: 0.9337 - LR: 0.001000\n"
     ]
    },
    {
     "name": "stderr",
     "output_type": "stream",
     "text": [
      "Epoch 16 [Training..]: 100%|██████████| 73/73 [01:08<00:00,  1.07it/s, auroc=0.929, loss=0.494]\n",
      "Epoch 16 [Validation..]: 100%|██████████| 5/5 [00:09<00:00,  1.94s/it, auroc=0.944, loss=0.378]\n"
     ]
    },
    {
     "name": "stdout",
     "output_type": "stream",
     "text": [
      "Epoch 16 - Train Loss: 0.4937 - Train AUROC: 0.9291 - Val Loss: 0.3775 - Val AUROC: 0.9438 - LR: 0.001000\n"
     ]
    },
    {
     "name": "stderr",
     "output_type": "stream",
     "text": [
      "Epoch 17 [Training..]: 100%|██████████| 73/73 [01:08<00:00,  1.07it/s, auroc=0.931, loss=0.493]\n",
      "Epoch 17 [Validation..]: 100%|██████████| 5/5 [00:09<00:00,  1.93s/it, auroc=0.929, loss=0.406]\n"
     ]
    },
    {
     "name": "stdout",
     "output_type": "stream",
     "text": [
      "Epoch 17 - Train Loss: 0.4932 - Train AUROC: 0.9313 - Val Loss: 0.4057 - Val AUROC: 0.9291 - LR: 0.001000\n"
     ]
    },
    {
     "name": "stderr",
     "output_type": "stream",
     "text": [
      "Epoch 18 [Training..]: 100%|██████████| 73/73 [01:09<00:00,  1.05it/s, auroc=0.927, loss=0.503]\n",
      "Epoch 18 [Validation..]: 100%|██████████| 5/5 [00:09<00:00,  1.94s/it, auroc=0.95, loss=0.403] \n"
     ]
    },
    {
     "name": "stdout",
     "output_type": "stream",
     "text": [
      "Epoch 18 - Train Loss: 0.5034 - Train AUROC: 0.9268 - Val Loss: 0.4032 - Val AUROC: 0.9497 - LR: 0.001000\n"
     ]
    },
    {
     "name": "stderr",
     "output_type": "stream",
     "text": [
      "Epoch 19 [Training..]: 100%|██████████| 73/73 [01:09<00:00,  1.05it/s, auroc=0.928, loss=0.488]\n",
      "Epoch 19 [Validation..]: 100%|██████████| 5/5 [00:09<00:00,  1.94s/it, auroc=0.932, loss=0.43] \n"
     ]
    },
    {
     "name": "stdout",
     "output_type": "stream",
     "text": [
      "Epoch 19 - Train Loss: 0.4880 - Train AUROC: 0.9276 - Val Loss: 0.4297 - Val AUROC: 0.9321 - LR: 0.001000\n"
     ]
    },
    {
     "name": "stderr",
     "output_type": "stream",
     "text": [
      "Epoch 20 [Training..]: 100%|██████████| 73/73 [01:08<00:00,  1.06it/s, auroc=0.941, loss=0.461]\n",
      "Epoch 20 [Validation..]: 100%|██████████| 5/5 [00:09<00:00,  1.93s/it, auroc=0.945, loss=0.366]\n"
     ]
    },
    {
     "name": "stdout",
     "output_type": "stream",
     "text": [
      "Epoch 20 - Train Loss: 0.4611 - Train AUROC: 0.9406 - Val Loss: 0.3657 - Val AUROC: 0.9454 - LR: 0.001000\n"
     ]
    },
    {
     "name": "stderr",
     "output_type": "stream",
     "text": [
      "Epoch 21 [Training..]: 100%|██████████| 73/73 [01:10<00:00,  1.04it/s, auroc=0.921, loss=0.503]\n",
      "Epoch 21 [Validation..]: 100%|██████████| 5/5 [00:10<00:00,  2.06s/it, auroc=0.942, loss=0.374]\n"
     ]
    },
    {
     "name": "stdout",
     "output_type": "stream",
     "text": [
      "Epoch 21 - Train Loss: 0.5030 - Train AUROC: 0.9206 - Val Loss: 0.3739 - Val AUROC: 0.9419 - LR: 0.001000\n"
     ]
    },
    {
     "name": "stderr",
     "output_type": "stream",
     "text": [
      "Epoch 22 [Training..]: 100%|██████████| 73/73 [01:12<00:00,  1.01it/s, auroc=0.931, loss=0.504]\n",
      "Epoch 22 [Validation..]: 100%|██████████| 5/5 [00:09<00:00,  1.97s/it, auroc=0.94, loss=0.374] \n"
     ]
    },
    {
     "name": "stdout",
     "output_type": "stream",
     "text": [
      "Epoch 22 - Train Loss: 0.5041 - Train AUROC: 0.9314 - Val Loss: 0.3743 - Val AUROC: 0.9401 - LR: 0.001000\n"
     ]
    },
    {
     "name": "stderr",
     "output_type": "stream",
     "text": [
      "Epoch 23 [Training..]: 100%|██████████| 73/73 [01:07<00:00,  1.08it/s, auroc=0.926, loss=0.463]\n",
      "Epoch 23 [Validation..]: 100%|██████████| 5/5 [00:09<00:00,  1.96s/it, auroc=0.951, loss=0.372]\n"
     ]
    },
    {
     "name": "stdout",
     "output_type": "stream",
     "text": [
      "Epoch 23 - Train Loss: 0.4630 - Train AUROC: 0.9261 - Val Loss: 0.3719 - Val AUROC: 0.9510 - LR: 0.001000\n"
     ]
    },
    {
     "name": "stderr",
     "output_type": "stream",
     "text": [
      "Epoch 24 [Training..]: 100%|██████████| 73/73 [01:08<00:00,  1.06it/s, auroc=0.94, loss=0.458] \n",
      "Epoch 24 [Validation..]: 100%|██████████| 5/5 [00:09<00:00,  1.95s/it, auroc=0.954, loss=0.386]\n"
     ]
    },
    {
     "name": "stdout",
     "output_type": "stream",
     "text": [
      "Epoch 24 - Train Loss: 0.4584 - Train AUROC: 0.9395 - Val Loss: 0.3855 - Val AUROC: 0.9539 - LR: 0.001000\n"
     ]
    },
    {
     "name": "stderr",
     "output_type": "stream",
     "text": [
      "Epoch 25 [Training..]: 100%|██████████| 73/73 [01:08<00:00,  1.07it/s, auroc=0.938, loss=0.474]\n",
      "Epoch 25 [Validation..]: 100%|██████████| 5/5 [00:09<00:00,  1.99s/it, auroc=0.952, loss=0.343]\n"
     ]
    },
    {
     "name": "stdout",
     "output_type": "stream",
     "text": [
      "Epoch 25 - Train Loss: 0.4743 - Train AUROC: 0.9381 - Val Loss: 0.3426 - Val AUROC: 0.9519 - LR: 0.001000\n"
     ]
    },
    {
     "name": "stderr",
     "output_type": "stream",
     "text": [
      "Epoch 26 [Training..]: 100%|██████████| 73/73 [01:11<00:00,  1.02it/s, auroc=0.931, loss=0.483]\n",
      "Epoch 26 [Validation..]: 100%|██████████| 5/5 [00:09<00:00,  1.98s/it, auroc=0.952, loss=0.417]\n"
     ]
    },
    {
     "name": "stdout",
     "output_type": "stream",
     "text": [
      "Epoch 26 - Train Loss: 0.4834 - Train AUROC: 0.9307 - Val Loss: 0.4168 - Val AUROC: 0.9524 - LR: 0.001000\n"
     ]
    },
    {
     "name": "stderr",
     "output_type": "stream",
     "text": [
      "Epoch 27 [Training..]: 100%|██████████| 73/73 [01:09<00:00,  1.05it/s, auroc=0.928, loss=0.509]\n",
      "Epoch 27 [Validation..]: 100%|██████████| 5/5 [00:09<00:00,  1.98s/it, auroc=0.948, loss=0.383]\n"
     ]
    },
    {
     "name": "stdout",
     "output_type": "stream",
     "text": [
      "Epoch 27 - Train Loss: 0.5094 - Train AUROC: 0.9281 - Val Loss: 0.3833 - Val AUROC: 0.9483 - LR: 0.001000\n"
     ]
    },
    {
     "name": "stderr",
     "output_type": "stream",
     "text": [
      "Epoch 28 [Training..]: 100%|██████████| 73/73 [01:20<00:00,  1.10s/it, auroc=0.936, loss=0.478]\n",
      "Epoch 28 [Validation..]: 100%|██████████| 5/5 [00:10<00:00,  2.13s/it, auroc=0.952, loss=0.346]\n"
     ]
    },
    {
     "name": "stdout",
     "output_type": "stream",
     "text": [
      "Epoch 28 - Train Loss: 0.4775 - Train AUROC: 0.9360 - Val Loss: 0.3462 - Val AUROC: 0.9523 - LR: 0.001000\n"
     ]
    },
    {
     "name": "stderr",
     "output_type": "stream",
     "text": [
      "Epoch 29 [Training..]: 100%|██████████| 73/73 [01:12<00:00,  1.01it/s, auroc=0.939, loss=0.466]\n",
      "Epoch 29 [Validation..]: 100%|██████████| 5/5 [00:11<00:00,  2.29s/it, auroc=0.948, loss=0.387]\n"
     ]
    },
    {
     "name": "stdout",
     "output_type": "stream",
     "text": [
      "Epoch 29 - Train Loss: 0.4657 - Train AUROC: 0.9392 - Val Loss: 0.3873 - Val AUROC: 0.9482 - LR: 0.001000\n"
     ]
    },
    {
     "name": "stderr",
     "output_type": "stream",
     "text": [
      "Epoch 30 [Training..]: 100%|██████████| 73/73 [01:11<00:00,  1.02it/s, auroc=0.929, loss=0.487]\n",
      "Epoch 30 [Validation..]: 100%|██████████| 5/5 [00:10<00:00,  2.18s/it, auroc=0.949, loss=0.375]"
     ]
    },
    {
     "name": "stdout",
     "output_type": "stream",
     "text": [
      "Epoch 30 - Train Loss: 0.4875 - Train AUROC: 0.9295 - Val Loss: 0.3749 - Val AUROC: 0.9486 - LR: 0.001000\n",
      "Early stopping at epoch 30\n"
     ]
    },
    {
     "name": "stderr",
     "output_type": "stream",
     "text": [
      "\n"
     ]
    }
   ],
   "source": [
    "import torch.nn as nn\n",
    "import torch\n",
    "from torch.optim import Adam\n",
    "from torch.optim.lr_scheduler import ReduceLROnPlateau\n",
    "from trainer_V2 import Trainer\n",
    "from predictor_V2 import Predictor\n",
    "\n",
    "model = freeze_feature_extractor(model)\n",
    "optimizer = Adam(model.parameters(), lr=0.001)\n",
    "scheduler = ReduceLROnPlateau(optimizer, mode='min', factor=0.1, patience=3)\n",
    "\n",
    "trainer = Trainer(model, train_loader, val_loader, optimizer=optimizer, scheduler=scheduler, early_patience=10)\n",
    "\n",
    "fing_history = trainer.fit(epochs=30)\n"
   ]
  },
  {
   "cell_type": "markdown",
   "id": "69fd3727",
   "metadata": {},
   "source": [
    "#### Fine Tuning -  second step : training all layers"
   ]
  },
  {
   "cell_type": "code",
   "execution_count": 21,
   "id": "6687a8bb",
   "metadata": {},
   "outputs": [
    {
     "name": "stderr",
     "output_type": "stream",
     "text": [
      "Epoch 1 [Training..]: 100%|██████████| 73/73 [02:12<00:00,  1.81s/it, auroc=0.696, loss=1.09] \n",
      "Epoch 1 [Validation..]: 100%|██████████| 5/5 [00:09<00:00,  1.90s/it, auroc=0.789, loss=0.911]\n"
     ]
    },
    {
     "name": "stdout",
     "output_type": "stream",
     "text": [
      "Epoch 1 - Train Loss: 1.0877 - Train AUROC: 0.6957 - Val Loss: 0.9107 - Val AUROC: 0.7890 - LR: 0.001000\n"
     ]
    },
    {
     "name": "stderr",
     "output_type": "stream",
     "text": [
      "Epoch 2 [Training..]: 100%|██████████| 73/73 [02:08<00:00,  1.76s/it, auroc=0.721, loss=1]    \n",
      "Epoch 2 [Validation..]: 100%|██████████| 5/5 [00:09<00:00,  1.91s/it, auroc=0.798, loss=0.855]\n"
     ]
    },
    {
     "name": "stdout",
     "output_type": "stream",
     "text": [
      "Epoch 2 - Train Loss: 1.0005 - Train AUROC: 0.7206 - Val Loss: 0.8546 - Val AUROC: 0.7976 - LR: 0.001000\n"
     ]
    },
    {
     "name": "stderr",
     "output_type": "stream",
     "text": [
      "Epoch 3 [Training..]: 100%|██████████| 73/73 [02:10<00:00,  1.79s/it, auroc=0.73, loss=0.987] \n",
      "Epoch 3 [Validation..]: 100%|██████████| 5/5 [00:09<00:00,  1.88s/it, auroc=0.777, loss=0.902]\n"
     ]
    },
    {
     "name": "stdout",
     "output_type": "stream",
     "text": [
      "Epoch 3 - Train Loss: 0.9871 - Train AUROC: 0.7296 - Val Loss: 0.9023 - Val AUROC: 0.7771 - LR: 0.001000\n"
     ]
    },
    {
     "name": "stderr",
     "output_type": "stream",
     "text": [
      "Epoch 4 [Training..]: 100%|██████████| 73/73 [02:09<00:00,  1.77s/it, auroc=0.746, loss=0.935]\n",
      "Epoch 4 [Validation..]: 100%|██████████| 5/5 [00:09<00:00,  1.89s/it, auroc=0.812, loss=0.922]\n"
     ]
    },
    {
     "name": "stdout",
     "output_type": "stream",
     "text": [
      "Epoch 4 - Train Loss: 0.9346 - Train AUROC: 0.7458 - Val Loss: 0.9220 - Val AUROC: 0.8120 - LR: 0.001000\n"
     ]
    },
    {
     "name": "stderr",
     "output_type": "stream",
     "text": [
      "Epoch 5 [Training..]:   1%|▏         | 1/73 [00:01<02:12,  1.84s/it]/Users/jungchulwoo/Desktop/Coding/DL/DL_Computer_Vision/plant_pathology/plant_venv/lib/python3.11/site-packages/torchmetrics/utilities/prints.py:43: UserWarning: No positive samples in targets, true positive value should be meaningless. Returning zero tensor in true positive score\n",
      "  warnings.warn(*args, **kwargs)\n",
      "Epoch 5 [Training..]: 100%|██████████| 73/73 [02:19<00:00,  1.91s/it, auroc=0.745, loss=0.949]\n",
      "Epoch 5 [Validation..]: 100%|██████████| 5/5 [00:09<00:00,  1.87s/it, auroc=0.831, loss=1.06]\n"
     ]
    },
    {
     "name": "stdout",
     "output_type": "stream",
     "text": [
      "Epoch 5 - Train Loss: 0.9488 - Train AUROC: 0.7445 - Val Loss: 1.0644 - Val AUROC: 0.8312 - LR: 0.001000\n"
     ]
    },
    {
     "name": "stderr",
     "output_type": "stream",
     "text": [
      "Epoch 6 [Training..]: 100%|██████████| 73/73 [02:11<00:00,  1.80s/it, auroc=0.726, loss=1]    \n",
      "Epoch 6 [Validation..]: 100%|██████████| 5/5 [00:09<00:00,  1.87s/it, auroc=0.757, loss=0.981]\n"
     ]
    },
    {
     "name": "stdout",
     "output_type": "stream",
     "text": [
      "Epoch 6 - Train Loss: 1.0002 - Train AUROC: 0.7263 - Val Loss: 0.9811 - Val AUROC: 0.7574 - LR: 0.000100\n"
     ]
    },
    {
     "name": "stderr",
     "output_type": "stream",
     "text": [
      "Epoch 7 [Training..]: 100%|██████████| 73/73 [02:11<00:00,  1.80s/it, auroc=0.738, loss=0.98] \n",
      "Epoch 7 [Validation..]: 100%|██████████| 5/5 [00:09<00:00,  1.87s/it, auroc=0.807, loss=0.811]\n"
     ]
    },
    {
     "name": "stdout",
     "output_type": "stream",
     "text": [
      "Epoch 7 - Train Loss: 0.9803 - Train AUROC: 0.7385 - Val Loss: 0.8109 - Val AUROC: 0.8070 - LR: 0.000100\n"
     ]
    },
    {
     "name": "stderr",
     "output_type": "stream",
     "text": [
      "Epoch 8 [Training..]: 100%|██████████| 73/73 [02:16<00:00,  1.87s/it, auroc=0.792, loss=0.866]\n",
      "Epoch 8 [Validation..]: 100%|██████████| 5/5 [00:09<00:00,  1.87s/it, auroc=0.828, loss=0.745]\n"
     ]
    },
    {
     "name": "stdout",
     "output_type": "stream",
     "text": [
      "Epoch 8 - Train Loss: 0.8664 - Train AUROC: 0.7916 - Val Loss: 0.7453 - Val AUROC: 0.8285 - LR: 0.000100\n"
     ]
    },
    {
     "name": "stderr",
     "output_type": "stream",
     "text": [
      "Epoch 9 [Training..]: 100%|██████████| 73/73 [02:08<00:00,  1.76s/it, auroc=0.788, loss=0.836]\n",
      "Epoch 9 [Validation..]: 100%|██████████| 5/5 [00:09<00:00,  1.88s/it, auroc=0.859, loss=0.693]\n"
     ]
    },
    {
     "name": "stdout",
     "output_type": "stream",
     "text": [
      "Epoch 9 - Train Loss: 0.8364 - Train AUROC: 0.7884 - Val Loss: 0.6932 - Val AUROC: 0.8593 - LR: 0.000100\n"
     ]
    },
    {
     "name": "stderr",
     "output_type": "stream",
     "text": [
      "Epoch 10 [Training..]: 100%|██████████| 73/73 [02:08<00:00,  1.75s/it, auroc=0.841, loss=0.747]\n",
      "Epoch 10 [Validation..]: 100%|██████████| 5/5 [00:09<00:00,  1.96s/it, auroc=0.867, loss=0.664]\n"
     ]
    },
    {
     "name": "stdout",
     "output_type": "stream",
     "text": [
      "Epoch 10 - Train Loss: 0.7471 - Train AUROC: 0.8414 - Val Loss: 0.6644 - Val AUROC: 0.8670 - LR: 0.000100\n"
     ]
    },
    {
     "name": "stderr",
     "output_type": "stream",
     "text": [
      "Epoch 11 [Training..]: 100%|██████████| 73/73 [02:11<00:00,  1.80s/it, auroc=0.853, loss=0.718]\n",
      "Epoch 11 [Validation..]: 100%|██████████| 5/5 [00:09<00:00,  1.88s/it, auroc=0.892, loss=0.605]\n"
     ]
    },
    {
     "name": "stdout",
     "output_type": "stream",
     "text": [
      "Epoch 11 - Train Loss: 0.7177 - Train AUROC: 0.8534 - Val Loss: 0.6047 - Val AUROC: 0.8920 - LR: 0.000100\n"
     ]
    },
    {
     "name": "stderr",
     "output_type": "stream",
     "text": [
      "Epoch 12 [Training..]: 100%|██████████| 73/73 [02:11<00:00,  1.80s/it, auroc=0.846, loss=0.701]\n",
      "Epoch 12 [Validation..]: 100%|██████████| 5/5 [00:09<00:00,  1.91s/it, auroc=0.907, loss=0.548]\n"
     ]
    },
    {
     "name": "stdout",
     "output_type": "stream",
     "text": [
      "Epoch 12 - Train Loss: 0.7006 - Train AUROC: 0.8456 - Val Loss: 0.5482 - Val AUROC: 0.9067 - LR: 0.000100\n"
     ]
    },
    {
     "name": "stderr",
     "output_type": "stream",
     "text": [
      "Epoch 13 [Training..]: 100%|██████████| 73/73 [02:12<00:00,  1.82s/it, auroc=0.857, loss=0.648]\n",
      "Epoch 13 [Validation..]: 100%|██████████| 5/5 [00:09<00:00,  1.87s/it, auroc=0.918, loss=0.547]\n"
     ]
    },
    {
     "name": "stdout",
     "output_type": "stream",
     "text": [
      "Epoch 13 - Train Loss: 0.6485 - Train AUROC: 0.8574 - Val Loss: 0.5473 - Val AUROC: 0.9178 - LR: 0.000100\n"
     ]
    },
    {
     "name": "stderr",
     "output_type": "stream",
     "text": [
      "Epoch 14 [Training..]: 100%|██████████| 73/73 [02:07<00:00,  1.75s/it, auroc=0.861, loss=0.667]\n",
      "Epoch 14 [Validation..]: 100%|██████████| 5/5 [00:09<00:00,  1.86s/it, auroc=0.919, loss=0.503]\n"
     ]
    },
    {
     "name": "stdout",
     "output_type": "stream",
     "text": [
      "Epoch 14 - Train Loss: 0.6665 - Train AUROC: 0.8608 - Val Loss: 0.5032 - Val AUROC: 0.9194 - LR: 0.000100\n"
     ]
    },
    {
     "name": "stderr",
     "output_type": "stream",
     "text": [
      "Epoch 15 [Training..]: 100%|██████████| 73/73 [02:11<00:00,  1.80s/it, auroc=0.851, loss=0.663]\n",
      "Epoch 15 [Validation..]: 100%|██████████| 5/5 [00:09<00:00,  1.87s/it, auroc=0.914, loss=0.545]\n"
     ]
    },
    {
     "name": "stdout",
     "output_type": "stream",
     "text": [
      "Epoch 15 - Train Loss: 0.6633 - Train AUROC: 0.8511 - Val Loss: 0.5450 - Val AUROC: 0.9139 - LR: 0.000100\n"
     ]
    },
    {
     "name": "stderr",
     "output_type": "stream",
     "text": [
      "Epoch 16 [Training..]: 100%|██████████| 73/73 [02:15<00:00,  1.85s/it, auroc=0.868, loss=0.639]\n",
      "Epoch 16 [Validation..]: 100%|██████████| 5/5 [00:09<00:00,  1.89s/it, auroc=0.932, loss=0.488]\n"
     ]
    },
    {
     "name": "stdout",
     "output_type": "stream",
     "text": [
      "Epoch 16 - Train Loss: 0.6388 - Train AUROC: 0.8681 - Val Loss: 0.4877 - Val AUROC: 0.9317 - LR: 0.000100\n"
     ]
    },
    {
     "name": "stderr",
     "output_type": "stream",
     "text": [
      "Epoch 17 [Training..]: 100%|██████████| 73/73 [02:19<00:00,  1.91s/it, auroc=0.875, loss=0.627]\n",
      "Epoch 17 [Validation..]: 100%|██████████| 5/5 [00:09<00:00,  1.89s/it, auroc=0.911, loss=0.469]\n"
     ]
    },
    {
     "name": "stdout",
     "output_type": "stream",
     "text": [
      "Epoch 17 - Train Loss: 0.6273 - Train AUROC: 0.8747 - Val Loss: 0.4694 - Val AUROC: 0.9107 - LR: 0.000100\n"
     ]
    },
    {
     "name": "stderr",
     "output_type": "stream",
     "text": [
      "Epoch 18 [Training..]: 100%|██████████| 73/73 [02:13<00:00,  1.83s/it, auroc=0.891, loss=0.567]\n",
      "Epoch 18 [Validation..]: 100%|██████████| 5/5 [00:09<00:00,  1.91s/it, auroc=0.913, loss=0.467]\n"
     ]
    },
    {
     "name": "stdout",
     "output_type": "stream",
     "text": [
      "Epoch 18 - Train Loss: 0.5666 - Train AUROC: 0.8911 - Val Loss: 0.4670 - Val AUROC: 0.9130 - LR: 0.000100\n"
     ]
    },
    {
     "name": "stderr",
     "output_type": "stream",
     "text": [
      "Epoch 19 [Training..]: 100%|██████████| 73/73 [02:10<00:00,  1.79s/it, auroc=0.893, loss=0.565]\n",
      "Epoch 19 [Validation..]: 100%|██████████| 5/5 [00:10<00:00,  2.06s/it, auroc=0.929, loss=0.44] \n"
     ]
    },
    {
     "name": "stdout",
     "output_type": "stream",
     "text": [
      "Epoch 19 - Train Loss: 0.5653 - Train AUROC: 0.8927 - Val Loss: 0.4396 - Val AUROC: 0.9289 - LR: 0.000100\n"
     ]
    },
    {
     "name": "stderr",
     "output_type": "stream",
     "text": [
      "Epoch 20 [Training..]: 100%|██████████| 73/73 [02:16<00:00,  1.88s/it, auroc=0.894, loss=0.574]\n",
      "Epoch 20 [Validation..]: 100%|██████████| 5/5 [00:09<00:00,  1.98s/it, auroc=0.925, loss=0.425]\n"
     ]
    },
    {
     "name": "stdout",
     "output_type": "stream",
     "text": [
      "Epoch 20 - Train Loss: 0.5745 - Train AUROC: 0.8937 - Val Loss: 0.4253 - Val AUROC: 0.9245 - LR: 0.000100\n"
     ]
    },
    {
     "name": "stderr",
     "output_type": "stream",
     "text": [
      "Epoch 21 [Training..]: 100%|██████████| 73/73 [02:20<00:00,  1.93s/it, auroc=0.884, loss=0.587]\n",
      "Epoch 21 [Validation..]: 100%|██████████| 5/5 [00:10<00:00,  2.04s/it, auroc=0.932, loss=0.417]\n"
     ]
    },
    {
     "name": "stdout",
     "output_type": "stream",
     "text": [
      "Epoch 21 - Train Loss: 0.5871 - Train AUROC: 0.8844 - Val Loss: 0.4168 - Val AUROC: 0.9317 - LR: 0.000100\n"
     ]
    },
    {
     "name": "stderr",
     "output_type": "stream",
     "text": [
      "Epoch 22 [Training..]: 100%|██████████| 73/73 [02:20<00:00,  1.92s/it, auroc=0.886, loss=0.579]\n",
      "Epoch 22 [Validation..]: 100%|██████████| 5/5 [00:10<00:00,  2.03s/it, auroc=0.941, loss=0.435]\n"
     ]
    },
    {
     "name": "stdout",
     "output_type": "stream",
     "text": [
      "Epoch 22 - Train Loss: 0.5788 - Train AUROC: 0.8855 - Val Loss: 0.4348 - Val AUROC: 0.9407 - LR: 0.000100\n"
     ]
    },
    {
     "name": "stderr",
     "output_type": "stream",
     "text": [
      "Epoch 23 [Training..]: 100%|██████████| 73/73 [02:15<00:00,  1.86s/it, auroc=0.89, loss=0.578] \n",
      "Epoch 23 [Validation..]: 100%|██████████| 5/5 [00:11<00:00,  2.30s/it, auroc=0.935, loss=0.439]\n"
     ]
    },
    {
     "name": "stdout",
     "output_type": "stream",
     "text": [
      "Epoch 23 - Train Loss: 0.5783 - Train AUROC: 0.8897 - Val Loss: 0.4388 - Val AUROC: 0.9348 - LR: 0.000100\n"
     ]
    },
    {
     "name": "stderr",
     "output_type": "stream",
     "text": [
      "Epoch 24 [Training..]: 100%|██████████| 73/73 [02:10<00:00,  1.79s/it, auroc=0.897, loss=0.535]\n",
      "Epoch 24 [Validation..]: 100%|██████████| 5/5 [00:09<00:00,  1.95s/it, auroc=0.93, loss=0.422] \n"
     ]
    },
    {
     "name": "stdout",
     "output_type": "stream",
     "text": [
      "Epoch 24 - Train Loss: 0.5349 - Train AUROC: 0.8971 - Val Loss: 0.4217 - Val AUROC: 0.9295 - LR: 0.000100\n"
     ]
    },
    {
     "name": "stderr",
     "output_type": "stream",
     "text": [
      "Epoch 25 [Training..]: 100%|██████████| 73/73 [02:15<00:00,  1.86s/it, auroc=0.907, loss=0.527]\n",
      "Epoch 25 [Validation..]: 100%|██████████| 5/5 [00:09<00:00,  1.87s/it, auroc=0.921, loss=0.483]\n"
     ]
    },
    {
     "name": "stdout",
     "output_type": "stream",
     "text": [
      "Epoch 25 - Train Loss: 0.5274 - Train AUROC: 0.9066 - Val Loss: 0.4830 - Val AUROC: 0.9209 - LR: 0.000010\n"
     ]
    },
    {
     "name": "stderr",
     "output_type": "stream",
     "text": [
      "Epoch 26 [Training..]: 100%|██████████| 73/73 [02:06<00:00,  1.74s/it, auroc=0.9, loss=0.545]  \n",
      "Epoch 26 [Validation..]: 100%|██████████| 5/5 [00:09<00:00,  1.89s/it, auroc=0.939, loss=0.384]\n"
     ]
    },
    {
     "name": "stdout",
     "output_type": "stream",
     "text": [
      "Epoch 26 - Train Loss: 0.5448 - Train AUROC: 0.8997 - Val Loss: 0.3843 - Val AUROC: 0.9394 - LR: 0.000010\n"
     ]
    },
    {
     "name": "stderr",
     "output_type": "stream",
     "text": [
      "Epoch 27 [Training..]: 100%|██████████| 73/73 [02:07<00:00,  1.75s/it, auroc=0.916, loss=0.528]\n",
      "Epoch 27 [Validation..]: 100%|██████████| 5/5 [00:09<00:00,  1.91s/it, auroc=0.941, loss=0.378]\n"
     ]
    },
    {
     "name": "stdout",
     "output_type": "stream",
     "text": [
      "Epoch 27 - Train Loss: 0.5277 - Train AUROC: 0.9159 - Val Loss: 0.3778 - Val AUROC: 0.9410 - LR: 0.000010\n"
     ]
    },
    {
     "name": "stderr",
     "output_type": "stream",
     "text": [
      "Epoch 28 [Training..]: 100%|██████████| 73/73 [02:07<00:00,  1.75s/it, auroc=0.912, loss=0.506]\n",
      "Epoch 28 [Validation..]: 100%|██████████| 5/5 [00:09<00:00,  1.85s/it, auroc=0.942, loss=0.372]\n"
     ]
    },
    {
     "name": "stdout",
     "output_type": "stream",
     "text": [
      "Epoch 28 - Train Loss: 0.5056 - Train AUROC: 0.9115 - Val Loss: 0.3717 - Val AUROC: 0.9421 - LR: 0.000010\n"
     ]
    },
    {
     "name": "stderr",
     "output_type": "stream",
     "text": [
      "Epoch 29 [Training..]: 100%|██████████| 73/73 [02:05<00:00,  1.72s/it, auroc=0.91, loss=0.502] \n",
      "Epoch 29 [Validation..]: 100%|██████████| 5/5 [00:09<00:00,  1.84s/it, auroc=0.942, loss=0.374]\n"
     ]
    },
    {
     "name": "stdout",
     "output_type": "stream",
     "text": [
      "Epoch 29 - Train Loss: 0.5021 - Train AUROC: 0.9101 - Val Loss: 0.3739 - Val AUROC: 0.9421 - LR: 0.000010\n"
     ]
    },
    {
     "name": "stderr",
     "output_type": "stream",
     "text": [
      "Epoch 30 [Training..]: 100%|██████████| 73/73 [02:08<00:00,  1.76s/it, auroc=0.911, loss=0.505]\n",
      "Epoch 30 [Validation..]: 100%|██████████| 5/5 [00:09<00:00,  1.87s/it, auroc=0.943, loss=0.367]"
     ]
    },
    {
     "name": "stdout",
     "output_type": "stream",
     "text": [
      "Epoch 30 - Train Loss: 0.5049 - Train AUROC: 0.9115 - Val Loss: 0.3666 - Val AUROC: 0.9432 - LR: 0.000010\n"
     ]
    },
    {
     "name": "stderr",
     "output_type": "stream",
     "text": [
      "\n"
     ]
    }
   ],
   "source": [
    "for param in model.parameters():\n",
    "    param.requires_grad = True\n",
    "\n",
    "optimizer = Adam(model.parameters(), lr=0.001)\n",
    "scheduler = ReduceLROnPlateau(optimizer, mode='min', factor=0.1, patience=3)\n",
    "\n",
    "trainer = Trainer(model, train_loader, val_loader, optimizer=optimizer, scheduler=scheduler, early_patience=10)\n",
    "\n",
    "result_history = trainer.fit(epochs=30)\n"
   ]
  },
  {
   "cell_type": "markdown",
   "id": "cae8b221",
   "metadata": {},
   "source": [
    "### Save model's parameters for safekeeping\n"
   ]
  },
  {
   "cell_type": "code",
   "execution_count": 24,
   "id": "c1c3a56b",
   "metadata": {},
   "outputs": [],
   "source": [
    "import torch\n",
    "\n",
    "save_path = 'state_dict'\n",
    "\n",
    "torch.save(model.state_dict(), save_path)"
   ]
  },
  {
   "cell_type": "markdown",
   "id": "170cfe0c",
   "metadata": {},
   "source": [
    "### Visualize the training summary"
   ]
  },
  {
   "cell_type": "code",
   "execution_count": 25,
   "id": "caf17f9c",
   "metadata": {},
   "outputs": [
    {
     "data": {
      "image/png": "[encoded data removed]",
      "text/plain": [
       "<Figure size 1000x500 with 3 Axes>"
      ]
     },
     "metadata": {},
     "output_type": "display_data"
    }
   ],
   "source": [
    "import matplotlib.pyplot as plt\n",
    "\n",
    "fig, ax = plt.subplots(nrows=1, ncols=3, figsize=(10, 5))\n",
    "\n",
    "ax[0].plot(result_history['train_loss'], label='train loss')\n",
    "ax[0].plot(result_history['val_loss'], label='val loss')\n",
    "ax[0].legend()\n",
    "ax[0].set_title('Loss')\n",
    "\n",
    "ax[1].plot(result_history['train_auroc'], label='train auroc')\n",
    "ax[1].plot(result_history['val_auroc'], label='val auroc')\n",
    "ax[1].legend()\n",
    "ax[1].set_title('AUROC')\n",
    "\n",
    "ax[2].plot(result_history['lr'], label='lr')\n",
    "ax[2].legend()\n",
    "ax[2].set_title('Learning Rate')\n",
    "\n",
    "plt.tight_layout()\n",
    "plt.show()"
   ]
  },
  {
   "cell_type": "markdown",
   "id": "50c90a2f",
   "metadata": {},
   "source": [
    "### Prediction and Submission"
   ]
  },
  {
   "cell_type": "code",
   "execution_count": 34,
   "id": "70d03b85",
   "metadata": {},
   "outputs": [
    {
     "data": {
      "text/plain": [
       "<module 'plant_pathology_data' from '/Users/jungchulwoo/Desktop/Coding/DL/DL_Computer_Vision/plant_pathology/plant_pathology_data.py'>"
      ]
     },
     "execution_count": 34,
     "metadata": {},
     "output_type": "execute_result"
    }
   ],
   "source": [
    "import importlib\n",
    "import plant_pathology_data\n",
    "import predictor_V2\n",
    "importlib.reload(predictor_V2)\n",
    "importlib.reload(plant_pathology_data)"
   ]
  },
  {
   "cell_type": "markdown",
   "id": "4563a426",
   "metadata": {},
   "source": [
    "### Prepare test loader"
   ]
  },
  {
   "cell_type": "code",
   "execution_count": 37,
   "id": "6f5ac567",
   "metadata": {},
   "outputs": [],
   "source": [
    "import pandas as pd\n",
    "import plant_pathology_data\n",
    "\n",
    "test_df = pd.read_csv('test.csv')\n",
    "test_df['image_path'] = test_df['image_id'].apply(lambda x: f'images/{x}.jpg')\n",
    "\n",
    "test_transform = A.Compose([\n",
    "    A.Resize(height=224, width=224),\n",
    "    A.Normalize(mean=(0.485, 0.456, 0.406), std=(0.229, 0.224, 0.225)),\n",
    "    ToTensorV2()\n",
    "])\n",
    "\n",
    "test_loader = plant_pathology_data.plant_data_loader(train_df=test_df, batch_size=16, train_transform=test_transform, is_test=True)"
   ]
  },
  {
   "cell_type": "code",
   "execution_count": 38,
   "id": "fd620989",
   "metadata": {},
   "outputs": [],
   "source": [
    "from predictor_V2 import Predictor\n",
    "import numpy as np \n",
    "\n",
    "predictor = Predictor(model)\n",
    "\n",
    "prob_all_list= []\n",
    "\n",
    "for image in test_loader:\n",
    "    probas = predictor.predict_proba(image).cpu().numpy()\n",
    "    prob_all_list.extend(probas)\n",
    "\n",
    "prob_all = np.array(prob_all_list)\n",
    "\n",
    "pred_df = pd.DataFrame(prob_all, columns=['healthy', 'multiple_diseases', 'rust', 'scab'])\n",
    "submit_df = pd.concat([test_df['image_id'], pred_df], axis=1)\n",
    "submit_df.to_csv('submission.csv', index=False)"
   ]
  },
  {
   "cell_type": "code",
   "execution_count": null,
   "id": "c47ec914",
   "metadata": {},
   "outputs": [],
   "source": []
  },
  {
   "cell_type": "code",
   "execution_count": null,
   "id": "dd57ad81",
   "metadata": {},
   "outputs": [],
   "source": []
  },
  {
   "cell_type": "code",
   "execution_count": null,
   "id": "29fbcec1",
   "metadata": {},
   "outputs": [],
   "source": []
  }
 ],
 "metadata": {
  "kernelspec": {
   "display_name": "plant_venv",
   "language": "python",
   "name": "python3"
  },
  "language_info": {
   "codemirror_mode": {
    "name": "ipython",
    "version": 3
   },
   "file_extension": ".py",
   "mimetype": "text/x-python",
   "name": "python",
   "nbconvert_exporter": "python",
   "pygments_lexer": "ipython3",
   "version": "3.11.2"
  }
 },
 "nbformat": 4,
 "nbformat_minor": 5
}
